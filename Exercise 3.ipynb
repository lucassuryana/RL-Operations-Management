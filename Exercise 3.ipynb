{
 "cells": [
  {
   "cell_type": "code",
   "execution_count": 17,
   "metadata": {},
   "outputs": [],
   "source": [
    "# Importing Packages\n",
    "import matplotlib.pyplot as plt\n",
    "import numpy as np\n",
    "import random"
   ]
  },
  {
   "cell_type": "code",
   "execution_count": 18,
   "metadata": {},
   "outputs": [],
   "source": [
    "# Creating expected reward function\n",
    "def random_customer(avail_seat):\n",
    "    '''\n",
    "    This function will generate a random number of customer who will buy \n",
    "    the flight ticket in one day. The number is limited by the availibility\n",
    "    of the seats.\n",
    "\n",
    "    Args:\n",
    "    None\n",
    "\n",
    "    Return:\n",
    "    random_cust (int) -> number of customer that day\n",
    "\n",
    "    '''\n",
    "    random_cust = random.randint(1, avail_seat)\n",
    "\n",
    "    return random_cust"
   ]
  },
  {
   "cell_type": "code",
   "execution_count": 19,
   "metadata": {},
   "outputs": [],
   "source": [
    "def set_policy(avail_seat, time_of_day):\n",
    "    '''\n",
    "    Function to chose a proposed policy made by the company's manager\n",
    "    \n",
    "    Rule to choose policy:\n",
    "    1. if the avail_seat > 5, choose policy 3\n",
    "    2. if the 1 <= avail_seat <= 5 and time_of_day <= 9, choose policy 2\n",
    "    3. if the 1 <= avail_seat <= 5 and time_of_day >= 10, choose policy 1\n",
    "    4. if avail_seat = 0, choose policy 0\n",
    "\n",
    "    Policy description:\n",
    "    Policy 3: sell to Type 1, Type 2, and Type 3 customers\n",
    "    Policy 2: sell to Type 1 and Type 2 customers\n",
    "    Policy 1: sell to Type 1 customers\n",
    "    Policy 0: cannot sell to anybody\n",
    "\n",
    "    Args:\n",
    "    avail_seat (int) -> total remaining available seats\n",
    "    time_of_day (int) -> days since the tickets are available\n",
    "\n",
    "    Return:\n",
    "    policy (int) -> chosen policy\n",
    "    '''\n",
    "\n",
    "    if avail_seat > 5:\n",
    "        policy = 3\n",
    "    elif (1 <= avail_seat <= 5) and (time_of_day <= 9):\n",
    "        policy = 2\n",
    "    elif (1 <= avail_seat <= 5) and (time_of_day >= 10):\n",
    "        policy = 1\n",
    "    else:\n",
    "        policy = 0\n",
    "\n",
    "    return policy"
   ]
  },
  {
   "cell_type": "code",
   "execution_count": 20,
   "metadata": {},
   "outputs": [],
   "source": [
    "def exp_reward_matrix(remain_seat, remain_day):\n",
    "    '''\n",
    "    Function to calculate the expected reward matrix\n",
    "\n",
    "    Args:\n",
    "    remain_seat (int) -> total remaining available seats\n",
    "    remain_day (int) -> total remaining days until the flight\n",
    "\n",
    "    Return:\n",
    "    total_reward (float) -> total expected reward\n",
    "    '''\n",
    "\n",
    "    reward_matrix = np.zeros((11,26))\n",
    "\n",
    "    for seat in range(1,11):\n",
    "        for day in range(1,26):\n",
    "            policy = set_policy(seat, day)\n",
    "            if policy == 1:\n",
    "                reward_matrix[seat,day] = 0.4 * (3000 + reward_matrix[seat-1, day-1]) + 0.3 * (reward_matrix[seat, day-1]) \\\n",
    "                    + 0.3 * (reward_matrix[seat, day-1])\n",
    "            elif policy == 2:\n",
    "                reward_matrix[seat,day] = 0.4 * (3000 + reward_matrix[seat-1, day-1]) + 0.3 * (2000 + reward_matrix[seat-1, day-1]) \\\n",
    "                    + 0.3 * (reward_matrix[seat, day-1])\n",
    "            else:\n",
    "                reward_matrix[seat,day] = 0.4 * (3000 + reward_matrix[seat-1, day-1]) + 0.3 * (2000 + reward_matrix[seat-1, day-1]) \\\n",
    "                    + 0.3 * (1000 + reward_matrix[seat-1, day-1])\n",
    "    \n",
    "    return reward_matrix[remain_seat, remain_day]"
   ]
  },
  {
   "cell_type": "code",
   "execution_count": 31,
   "metadata": {},
   "outputs": [],
   "source": [
    "def total_exp_reward(remain_seat, remain_day):\n",
    "    '''\n",
    "    Function to calculate total expected reward for one simulation.\n",
    "    This one simulation shows the total expected reward that will be obtained in a period of 25 days if a random number of customers buy tickets every day.\n",
    "\n",
    "    Args:\n",
    "    remain_seat (int) -> total remaining available seats\n",
    "    remain_day (int) -> total remaining days until the flight\n",
    "\n",
    "    Return:\n",
    "    total_reward (float) -> total reward achieved at the end of selling period\n",
    "    '''\n",
    "    reward = []\n",
    "    for day in range(remain_day,0,-1):\n",
    "        if remain_seat > 0:\n",
    "            # expected reward before customers buy any tickets this day\n",
    "            current_exp_reward_init = exp_reward_matrix(remain_seat,day)\n",
    "\n",
    "            # remain seat after random customer buy seat this day\n",
    "            num_cust_today = random_customer(remain_seat)\n",
    "            remain_seat = remain_seat - num_cust_today\n",
    "\n",
    "            # expected reward after customers buy any tickets this day\n",
    "            current_exp_reward_after = exp_reward_matrix(remain_seat, day)\n",
    "\n",
    "            expected_reward = current_exp_reward_init - current_exp_reward_after\n",
    "            reward.append(expected_reward)\n",
    "            \n",
    "    total_reward = sum(reward)\n",
    "    return total_reward"
   ]
  },
  {
   "cell_type": "code",
   "execution_count": 32,
   "metadata": {},
   "outputs": [],
   "source": [
    "def monte_carlo_sim(num_simulations):\n",
    "    '''\n",
    "    Function to simulate Monte Carlo simulation, plot the result, and calculate the mean and standard deviaton of expected reward\n",
    "\n",
    "    Args:\n",
    "    num_simulation (int) -> number of simulation conducted\n",
    "\n",
    "    Return:\n",
    "    avg_exp_reward (float) -> the average of expected reward from Monte Carlo simulation results\n",
    "    sd_exp_reward (float) -> the standard deviation of expected reward from Monte Carlo simulation results\n",
    "    '''\n",
    "\n",
    "    remain_seat = 10\n",
    "    remain_day = 25\n",
    "\n",
    "    sim_ax = [] # x axis for the plot, total simulation\n",
    "    reward_ax = [] # y axis for the plot, total reward each simulation\n",
    "\n",
    "    for sim in range(0,num_simulations):\n",
    "        rewards = total_exp_reward(remain_seat,remain_day)\n",
    "        reward_ax.append(rewards)\n",
    "        sim_ax.append(sim)\n",
    "\n",
    "    fig = plt.figure()\n",
    "    plt.title(\"Monte Carlo Flight Ticket [\" + str(num_simulations) + \" simulations]\")\n",
    "    plt.xlabel(\"Simulation\")\n",
    "    plt.ylabel(\"Expected reward [$]\")\n",
    "    plt.xlim([0, num_simulations])\n",
    "    plt.plot(sim_ax, reward_ax)\n",
    "\n",
    "    avg_exp_reward = np.average(reward_ax)\n",
    "    sd_exp_reward = np.std(reward_ax)\n",
    "\n",
    "    return avg_exp_reward, sd_exp_reward"
   ]
  },
  {
   "cell_type": "code",
   "execution_count": 33,
   "metadata": {},
   "outputs": [
    {
     "data": {
      "image/png": "[encoded data removed]",
      "text/plain": [
       "<Figure size 432x288 with 1 Axes>"
      ]
     },
     "metadata": {
      "needs_background": "light"
     },
     "output_type": "display_data"
    }
   ],
   "source": [
    "sim_result = monte_carlo_sim(10000)"
   ]
  },
  {
   "cell_type": "code",
   "execution_count": 35,
   "metadata": {},
   "outputs": [
    {
     "name": "stdout",
     "output_type": "stream",
     "text": [
      "Mean of expected reward is 25028.39325376835\n",
      "Standard deviation of expected reward is 54.283166980658315\n"
     ]
    }
   ],
   "source": [
    "print('Mean of expected reward is', sim_result[0])\n",
    "print('Standard deviation of expected reward is', sim_result[1])"
   ]
  },
  {
   "cell_type": "code",
   "execution_count": null,
   "metadata": {},
   "outputs": [],
   "source": []
  }
 ],
 "metadata": {
  "kernelspec": {
   "display_name": "Python 3.9.12",
   "language": "python",
   "name": "python3"
  },
  "language_info": {
   "codemirror_mode": {
    "name": "ipython",
    "version": 3
   },
   "file_extension": ".py",
   "mimetype": "text/x-python",
   "name": "python",
   "nbconvert_exporter": "python",
   "pygments_lexer": "ipython3",
   "version": "3.9.12"
  },
  "orig_nbformat": 4,
  "vscode": {
   "interpreter": {
    "hash": "942f701b2df79ca4a1aae4324dbf019e14a586254b6da93e38e747ff79b81825"
   }
  }
 },
 "nbformat": 4,
 "nbformat_minor": 2
}
