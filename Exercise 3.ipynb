{
 "cells": [
  {
   "cell_type": "code",
   "execution_count": 1,
   "metadata": {},
   "outputs": [],
   "source": [
    "# Importing Packages\n",
    "import matplotlib.pyplot as plt\n",
    "import numpy as np\n",
    "import random"
   ]
  },
  {
   "cell_type": "code",
   "execution_count": 4,
   "metadata": {},
   "outputs": [],
   "source": [
    "# Creating expected reward function\n",
    "def random_customer(avail_seat):\n",
    "    '''\n",
    "    This function will generate a random number of customer who will buy \n",
    "    the flight ticket in one day. The number is limited by the availibility\n",
    "    of the seats.\n",
    "\n",
    "    Args:\n",
    "    None\n",
    "\n",
    "    Return:\n",
    "    random_cust (int) -> number of customer that day\n",
    "\n",
    "    '''\n",
    "    random_cust = random.randint(1, avail_seat)\n",
    "\n",
    "    return random_cust"
   ]
  },
  {
   "cell_type": "code",
   "execution_count": 38,
   "metadata": {},
   "outputs": [],
   "source": [
    "def exp_reward_matrix(remain_seat, remain_day):\n",
    "    '''\n",
    "    Function to calculate the expected reward matrix\n",
    "\n",
    "    Args:\n",
    "    remain_seat (int) -> total remaining available seats\n",
    "    remain_day (int) -> total remaining days until the flight\n",
    "\n",
    "    Return:\n",
    "    total_reward (float) -> total expected reward\n",
    "    '''\n",
    "\n",
    "    reward_matrix = np.zeros((11,26))\n",
    "\n",
    "    for seat in range(1,11):\n",
    "        for day in range(1,26):\n",
    "            policy = set_policy(seat, day)\n",
    "            if policy == 1:\n",
    "                reward_matrix[seat,day] = 0.4 * (3000 + reward_matrix[seat-1, day-1]) + 0.3 * (reward_matrix[seat, day-1]) + 0.3 * (reward_matrix[seat, day-1])\n",
    "            elif policy == 2:\n",
    "                reward_matrix[seat,day] = 0.4 * (3000 + reward_matrix[seat-1, day-1]) + 0.3 * (2000 + reward_matrix[seat-1, day-1]) + 0.3 * (reward_matrix[seat, day-1])\n",
    "            else:\n",
    "                reward_matrix[seat,day] = 0.4 * (3000 + reward_matrix[seat-1, day-1]) + 0.3 * (2000 + reward_matrix[seat-1, day-1]) + 0.3 * (1000 + reward_matrix[seat-1, day-1])\n",
    "    \n",
    "    return reward_matrix[remain_seat, remain_day]"
   ]
  },
  {
   "cell_type": "code",
   "execution_count": 64,
   "metadata": {},
   "outputs": [],
   "source": [
    "def monte_simulation(remain_seat, remain_day):\n",
    "    reward = []\n",
    "    for day in range(remain_day,0,-1):\n",
    "        if remain_seat > 0:\n",
    "            current_exp_reward_init = exp_reward_matrix(remain_seat,remain_day)\n",
    "\n",
    "            # remain seat after random customer buy seat this day\n",
    "            num_cust_today = random_customer(remain_seat)\n",
    "            remain_seat = remain_seat - num_cust_today\n",
    "            current_exp_reward_after = exp_reward_matrix(remain_seat, day)\n",
    "\n",
    "            expected_reward = current_exp_reward_init - current_exp_reward_after\n",
    "            reward.append(expected_reward)\n",
    "            \n",
    "    total_reward = sum(reward)\n",
    "    return total_reward"
   ]
  },
  {
   "cell_type": "code",
   "execution_count": 80,
   "metadata": {},
   "outputs": [
    {
     "data": {
      "text/plain": [
       "[<matplotlib.lines.Line2D at 0x7fe1493f3940>]"
      ]
     },
     "execution_count": 80,
     "metadata": {},
     "output_type": "execute_result"
    },
    {
     "data": {
      "image/png": "[encoded data removed]",
      "text/plain": [
       "<Figure size 432x288 with 1 Axes>"
      ]
     },
     "metadata": {
      "needs_background": "light"
     },
     "output_type": "display_data"
    }
   ],
   "source": [
    "remain_seat = 10\n",
    "remain_day = 25\n",
    "num_simulations = 10000\n",
    "\n",
    "sim_ax = []\n",
    "reward_ax = []\n",
    "\n",
    "for sim in range(0,num_simulations):\n",
    "    rewards = monte_simulation(10,25)\n",
    "    reward_ax.append(rewards)\n",
    "    sim_ax.append(sim)\n",
    "\n",
    "fig = plt.figure()\n",
    "plt.title(\"Monte Carlo Flight Ticket [\" + str(num_simulations) + \" simulations]\")\n",
    "plt.xlabel(\"Simulation\")\n",
    "plt.ylabel(\"Expected reward [$]\")\n",
    "plt.xlim([0, num_simulations])\n",
    "plt.plot(sim_ax, reward_ax)"
   ]
  },
  {
   "cell_type": "code",
   "execution_count": 79,
   "metadata": {},
   "outputs": [
    {
     "name": "stdout",
     "output_type": "stream",
     "text": [
      "Mean of payments is 25086.859496310874\n",
      "Standard deviation of payments is 33.19503909045189\n"
     ]
    }
   ],
   "source": [
    "print('Mean of payments is', np.average(reward_ax))\n",
    "print('Standard deviation of payments is', np.std(reward_ax))"
   ]
  },
  {
   "cell_type": "code",
   "execution_count": null,
   "metadata": {},
   "outputs": [],
   "source": []
  }
 ],
 "metadata": {
  "kernelspec": {
   "display_name": "Python 3.9.12",
   "language": "python",
   "name": "python3"
  },
  "language_info": {
   "codemirror_mode": {
    "name": "ipython",
    "version": 3
   },
   "file_extension": ".py",
   "mimetype": "text/x-python",
   "name": "python",
   "nbconvert_exporter": "python",
   "pygments_lexer": "ipython3",
   "version": "3.9.12"
  },
  "orig_nbformat": 4,
  "vscode": {
   "interpreter": {
    "hash": "942f701b2df79ca4a1aae4324dbf019e14a586254b6da93e38e747ff79b81825"
   }
  }
 },
 "nbformat": 4,
 "nbformat_minor": 2
}
